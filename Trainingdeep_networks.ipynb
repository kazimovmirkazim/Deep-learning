{
  "nbformat": 4,
  "nbformat_minor": 0,
  "metadata": {
    "colab": {
      "provenance": [],
      "authorship_tag": "ABX9TyM2wdyq/rpxT2+3np4a6dGQ",
      "include_colab_link": true
    },
    "kernelspec": {
      "name": "python3",
      "display_name": "Python 3"
    },
    "language_info": {
      "name": "python"
    }
  },
  "cells": [
    {
      "cell_type": "markdown",
      "metadata": {
        "id": "view-in-github",
        "colab_type": "text"
      },
      "source": [
        "<a href=\"https://colab.research.google.com/github/kazimovmirkazim/Deep-learning/blob/main/Trainingdeep_networks.ipynb\" target=\"_parent\"><img src=\"https://colab.research.google.com/assets/colab-badge.svg\" alt=\"Open In Colab\"/></a>"
      ]
    },
    {
      "cell_type": "code",
      "execution_count": 1,
      "metadata": {
        "colab": {
          "base_uri": "https://localhost:8080/",
          "height": 430
        },
        "id": "zboeLz3GEzqU",
        "outputId": "eeefd453-3817-4f11-9319-588182db78ba"
      },
      "outputs": [
        {
          "output_type": "display_data",
          "data": {
            "text/plain": [
              "<Figure size 640x480 with 1 Axes>"
            ],
            "image/png": "[encoded data removed]"
          },
          "metadata": {}
        }
      ],
      "source": [
        "import numpy as np\n",
        "import matplotlib.pyplot as plt\n",
        "\n",
        "def sigmoid(Z):\n",
        "  return 1 / (1 + np.exp(-Z))\n",
        "\n",
        "z = np.linspace(-5, 5, 200)\n",
        "\n",
        "plt.plot(sigmoid(z))\n",
        "plt.plot([0, 200], [0, 0], 'k-')\n",
        "plt.plot([0, 200], [1, 1], 'k--')\n",
        "plt.axvline(x=0, color='gray', linestyle='--') # Added a vertical line at x=0\n",
        "plt.show() # Added show to display the plot"
      ]
    },
    {
      "cell_type": "markdown",
      "source": [],
      "metadata": {
        "id": "ufhxA5WRGNg3"
      }
    },
    {
      "cell_type": "markdown",
      "source": [],
      "metadata": {
        "id": "FASHxAa6GNck"
      }
    },
    {
      "cell_type": "code",
      "source": [
        "import tensorflow as tf\n",
        "dense = tf.keras.layers.Dense (50,activation='relu',kernel_initializer='he_normal')"
      ],
      "metadata": {
        "id": "F7PUWkvxFtWy"
      },
      "execution_count": 9,
      "outputs": []
    },
    {
      "cell_type": "code",
      "metadata": {
        "id": "548a2528"
      },
      "source": [
        "import tensorflow as tf"
      ],
      "execution_count": 10,
      "outputs": []
    },
    {
      "cell_type": "code",
      "metadata": {
        "id": "9ee52f68"
      },
      "source": [
        "he_avg_init = tf.keras.initializers.VarianceScaling(scale=2.,mode='fan_avg',distribution='uniform')\n",
        "dense  = tf.keras.layers.Dense(50,activation='sigmoid',kernel_initializer=he_avg_init)"
      ],
      "execution_count": 11,
      "outputs": []
    },
    {
      "cell_type": "markdown",
      "source": [
        "Nonsaturating Activation Funkctions"
      ],
      "metadata": {
        "id": "t_N4f47IN2Hz"
      }
    },
    {
      "cell_type": "code",
      "source": [
        "def lucky_relu(z,alpha):\n",
        "  return np.maximum(alpha *  z,z)\n",
        "\n",
        "z= np.linspace(-5,5,200)\n"
      ],
      "metadata": {
        "id": "AgaWtY_cNxvg"
      },
      "execution_count": 12,
      "outputs": []
    },
    {
      "cell_type": "code",
      "source": [
        "leaky_relu  = tf.keras.layers.LeakyReLU(negative_slope=0.2)\n",
        "dense = tf.keras.layers.Dense(50,activation=leaky_relu,\n",
        "                              kernel_initializer='he_normal')"
      ],
      "metadata": {
        "id": "GGnMWMtAPfl0"
      },
      "execution_count": 13,
      "outputs": []
    },
    {
      "cell_type": "code",
      "source": [
        "model = tf.keras.models.Sequential( [\n",
        "    tf.keras.layers.Dense(50,kernel_initializer='he_normal'),\n",
        "    tf.keras.layers.LeakyReLU(negative_slope=0.2),\n",
        "])"
      ],
      "metadata": {
        "id": "4dW-ZafTP-Rx"
      },
      "execution_count": 14,
      "outputs": []
    },
    {
      "cell_type": "code",
      "source": [
        "dense =  tf.keras.layers.Dense(50,activation='elu',\n",
        "                              kernel_initializer='he_normal')"
      ],
      "metadata": {
        "id": "m1_85h2mQ3u9"
      },
      "execution_count": 15,
      "outputs": []
    },
    {
      "cell_type": "code",
      "source": [
        "dense =  tf.keras.layers.Dense(50,activation='selu',\n",
        "                              kernel_initializer='he_normal')"
      ],
      "metadata": {
        "id": "4AriFqImROKL"
      },
      "execution_count": 16,
      "outputs": []
    },
    {
      "cell_type": "code",
      "source": [
        "tf.random.set_seed(42)\n",
        "model =  tf.keras.Sequential()\n",
        "model.add(tf.keras.layers.Flatten(input_shape=[28,28]))\n",
        "for layer in range(100):\n",
        "  model.add(tf.keras.layers.Dense(100,activation='selu',\n",
        "                                  kernel_initializer='lecun_normal'))\n",
        "model.add(tf.keras.layers.Dense(10,activation='softmax'))"
      ],
      "metadata": {
        "colab": {
          "base_uri": "https://localhost:8080/"
        },
        "id": "kno4RWr5RNqd",
        "outputId": "30150a09-6494-469f-d25a-b93040b17729"
      },
      "execution_count": 26,
      "outputs": [
        {
          "output_type": "stream",
          "name": "stderr",
          "text": [
            "/usr/local/lib/python3.11/dist-packages/keras/src/layers/reshaping/flatten.py:37: UserWarning: Do not pass an `input_shape`/`input_dim` argument to a layer. When using Sequential models, prefer using an `Input(shape)` object as the first layer in the model instead.\n",
            "  super().__init__(**kwargs)\n"
          ]
        }
      ]
    },
    {
      "cell_type": "code",
      "source": [
        "model.compile(loss='sparse_categorical_crossentropy',\n",
        "              optimizer= tf.keras.optimizers.SGD(learning_rate=1e-3),\n",
        "              metrics= ['accuracy'])"
      ],
      "metadata": {
        "id": "-MCVki_xRNlx"
      },
      "execution_count": 27,
      "outputs": []
    },
    {
      "cell_type": "code",
      "source": [
        "fashion_mnist = tf.keras.datasets.fashion_mnist.load_data()\n",
        "(X_train_full,y_train_full),(X_test,y_test) = fashion_mnist\n",
        "X_train,y_train= X_train_full[:-5000],y_train_full[:-5000]\n",
        "X_valid,y_valid= X_train_full[-5000:],y_train_full[-5000:] # Corrected slicing for validation set\n",
        "X_train,X_valid,X_test = X_train/255.0,X_valid/255.0,X_test/255.0 # Corrected variable name X_test to x_test"
      ],
      "metadata": {
        "id": "3isYIlGWTdt8"
      },
      "execution_count": 28,
      "outputs": []
    },
    {
      "cell_type": "code",
      "source": [
        "class_names=['T-shirt/top','Trouser','Pullover','Dress','Coat','Sandal','Shirt','Sneaker','Bag','Ankle boot']"
      ],
      "metadata": {
        "id": "6kXpgpGiU8TR"
      },
      "execution_count": 29,
      "outputs": []
    },
    {
      "cell_type": "code",
      "source": [
        "pixel_means=X_train.mean(axis=0,keepdims=True)\n",
        "pixel_stds=X_train.std(axis=0,keepdims=True)\n",
        "X_train_scaled=(X_train-pixel_means)/pixel_stds\n",
        "X_valid_scaled=(X_valid-pixel_means)/pixel_stds\n",
        "X_test_scaled=(X_test-pixel_means)/pixel_stds"
      ],
      "metadata": {
        "id": "OwT4w9c0Mpjx"
      },
      "execution_count": 30,
      "outputs": []
    },
    {
      "cell_type": "code",
      "source": [
        "history = model.fit (X_train,y_train,epochs=5,validation_data=(X_valid,y_valid))"
      ],
      "metadata": {
        "colab": {
          "base_uri": "https://localhost:8080/"
        },
        "id": "3hU7Ijw0NLFt",
        "outputId": "86fb6bbd-43d7-48d5-8c96-6a9067363e4a"
      },
      "execution_count": 31,
      "outputs": [
        {
          "output_type": "stream",
          "name": "stdout",
          "text": [
            "Epoch 1/5\n",
            "\u001b[1m1719/1719\u001b[0m \u001b[32m━━━━━━━━━━━━━━━━━━━━\u001b[0m\u001b[37m\u001b[0m \u001b[1m41s\u001b[0m 20ms/step - accuracy: 0.3294 - loss: 1.7519 - val_accuracy: 0.6636 - val_loss: 0.8394\n",
            "Epoch 2/5\n",
            "\u001b[1m1719/1719\u001b[0m \u001b[32m━━━━━━━━━━━━━━━━━━━━\u001b[0m\u001b[37m\u001b[0m \u001b[1m31s\u001b[0m 18ms/step - accuracy: 0.6910 - loss: 0.8077 - val_accuracy: 0.7628 - val_loss: 0.6369\n",
            "Epoch 3/5\n",
            "\u001b[1m1719/1719\u001b[0m \u001b[32m━━━━━━━━━━━━━━━━━━━━\u001b[0m\u001b[37m\u001b[0m \u001b[1m42s\u001b[0m 19ms/step - accuracy: 0.7638 - loss: 0.6344 - val_accuracy: 0.7678 - val_loss: 0.6633\n",
            "Epoch 4/5\n",
            "\u001b[1m1719/1719\u001b[0m \u001b[32m━━━━━━━━━━━━━━━━━━━━\u001b[0m\u001b[37m\u001b[0m \u001b[1m32s\u001b[0m 19ms/step - accuracy: 0.7877 - loss: 0.5959 - val_accuracy: 0.7944 - val_loss: 0.5589\n",
            "Epoch 5/5\n",
            "\u001b[1m1719/1719\u001b[0m \u001b[32m━━━━━━━━━━━━━━━━━━━━\u001b[0m\u001b[37m\u001b[0m \u001b[1m41s\u001b[0m 19ms/step - accuracy: 0.8068 - loss: 0.5424 - val_accuracy: 0.8182 - val_loss: 0.5101\n"
          ]
        }
      ]
    },
    {
      "cell_type": "code",
      "source": [
        "def swish(z,beta=1):\n",
        "  return z * sigmoid(beta * z)\n",
        "def approx_gelu(z):\n",
        "  return swish(z,beta=1.702)\n",
        "def softplus(z):\n",
        "  return np.log(1+ np.exp(z))\n",
        "def mish(z):\n",
        "  return z * np.tanh(softplus(z))"
      ],
      "metadata": {
        "id": "0jg3l_ZDNY_U"
      },
      "execution_count": 32,
      "outputs": []
    },
    {
      "cell_type": "markdown",
      "source": [
        "# Batch Normalization"
      ],
      "metadata": {
        "id": "ilsb7hBCQjRF"
      }
    },
    {
      "cell_type": "code",
      "source": [
        "model =  tf.keras.Sequential(\n",
        "    [\n",
        "\n",
        "     tf.keras.layers.Flatten(input_shape= [28,28]),\n",
        "     tf.keras.layers.BatchNormalization(),\n",
        "     tf.keras.layers.Dense(300,activation='relu',\n",
        "                           kernel_initializer='he_normal'),\n",
        "     tf.keras.layers.BatchNormalization(),\n",
        "     tf.keras.layers.Dense(100,activation='relu',\n",
        "                           kernel_initializer='he_normal'),\n",
        "     tf.keras.layers.BatchNormalization(),\n",
        "     tf.keras.layers.Dense(10,activation='softmax')\n",
        "     ]\n",
        ")"
      ],
      "metadata": {
        "colab": {
          "base_uri": "https://localhost:8080/"
        },
        "id": "MHAZlh8RQmtU",
        "outputId": "e1a1a9f1-2936-4bde-f907-81af6e0de4d0"
      },
      "execution_count": 33,
      "outputs": [
        {
          "output_type": "stream",
          "name": "stderr",
          "text": [
            "/usr/local/lib/python3.11/dist-packages/keras/src/layers/reshaping/flatten.py:37: UserWarning: Do not pass an `input_shape`/`input_dim` argument to a layer. When using Sequential models, prefer using an `Input(shape)` object as the first layer in the model instead.\n",
            "  super().__init__(**kwargs)\n"
          ]
        }
      ]
    },
    {
      "cell_type": "code",
      "source": [
        "[(var.name,var.trainable)for var in model.layers[1].variables]"
      ],
      "metadata": {
        "colab": {
          "base_uri": "https://localhost:8080/"
        },
        "id": "no_1KanlSvXX",
        "outputId": "6351d1ee-f0fd-44de-c6f3-41bab2512ced"
      },
      "execution_count": 34,
      "outputs": [
        {
          "output_type": "execute_result",
          "data": {
            "text/plain": [
              "[('gamma', True),\n",
              " ('beta', True),\n",
              " ('moving_mean', False),\n",
              " ('moving_variance', False)]"
            ]
          },
          "metadata": {},
          "execution_count": 34
        }
      ]
    },
    {
      "cell_type": "code",
      "source": [
        "model.compile(loss='sparse_categorical_crossentropy',optimizer='sgd',\n",
        "              metrics=['accuracy'])\n",
        "model.fit(X_train,y_train,epochs=2,validation_data=(X_valid,y_valid))"
      ],
      "metadata": {
        "colab": {
          "base_uri": "https://localhost:8080/"
        },
        "id": "46UEX12yTDDT",
        "outputId": "06cb28ac-5fdb-4b66-b1e8-810db6d25762"
      },
      "execution_count": 35,
      "outputs": [
        {
          "output_type": "stream",
          "name": "stdout",
          "text": [
            "Epoch 1/2\n",
            "\u001b[1m1719/1719\u001b[0m \u001b[32m━━━━━━━━━━━━━━━━━━━━\u001b[0m\u001b[37m\u001b[0m \u001b[1m14s\u001b[0m 8ms/step - accuracy: 0.7549 - loss: 0.7203 - val_accuracy: 0.8528 - val_loss: 0.3945\n",
            "Epoch 2/2\n",
            "\u001b[1m1719/1719\u001b[0m \u001b[32m━━━━━━━━━━━━━━━━━━━━\u001b[0m\u001b[37m\u001b[0m \u001b[1m14s\u001b[0m 8ms/step - accuracy: 0.8566 - loss: 0.4033 - val_accuracy: 0.8666 - val_loss: 0.3613\n"
          ]
        },
        {
          "output_type": "execute_result",
          "data": {
            "text/plain": [
              "<keras.src.callbacks.history.History at 0x7f0c1c4a50d0>"
            ]
          },
          "metadata": {},
          "execution_count": 35
        }
      ]
    },
    {
      "cell_type": "code",
      "source": [
        "tf.keras.backend.clear_session()\n",
        "tf.random.set_seed(42)"
      ],
      "metadata": {
        "id": "n4hDWMJjTDBf"
      },
      "execution_count": 36,
      "outputs": []
    },
    {
      "cell_type": "markdown",
      "source": [
        "Data functiona chatmazdan once normalize olmalidi,\n",
        "\n",
        "Batch Normalization Computer vision uchun chox yaxshidi\n",
        "\n",
        "\n",
        "---\n",
        "\n"
      ],
      "metadata": {
        "id": "ssXGoJ44TvAm"
      }
    },
    {
      "cell_type": "code",
      "source": [
        "model =  tf.keras.Sequential(\n",
        "    [\n",
        "\n",
        "     tf.keras.layers.Flatten(input_shape= [28,28]),\n",
        "     tf.keras.layers.BatchNormalization(),\n",
        "     tf.keras.layers.Dense(300,activation='relu',\n",
        "                           kernel_initializer='he_normal',use_bias=False),\n",
        "     tf.keras.layers.BatchNormalization(),\n",
        "     tf.keras.layers.Dense(100,activation='relu',\n",
        "                           kernel_initializer='he_normal',use_bias=False),\n",
        "     tf.keras.layers.BatchNormalization(),\n",
        "     tf.keras.layers.Dense(10,activation='softmax')\n",
        "     ]\n",
        ")"
      ],
      "metadata": {
        "colab": {
          "base_uri": "https://localhost:8080/"
        },
        "id": "6a0mwpTfUDO6",
        "outputId": "fefe53e1-0fef-4b54-a809-91207fe98e37"
      },
      "execution_count": 39,
      "outputs": [
        {
          "output_type": "stream",
          "name": "stderr",
          "text": [
            "/usr/local/lib/python3.11/dist-packages/keras/src/layers/reshaping/flatten.py:37: UserWarning: Do not pass an `input_shape`/`input_dim` argument to a layer. When using Sequential models, prefer using an `Input(shape)` object as the first layer in the model instead.\n",
            "  super().__init__(**kwargs)\n"
          ]
        }
      ]
    },
    {
      "cell_type": "code",
      "source": [
        "model.compile(loss='sparse_categorical_crossentropy',optimizer='sgd',\n",
        "              metrics=['accuracy'])\n",
        "model.fit(X_train,y_train,epochs=2,validation_data=(X_valid,y_valid))"
      ],
      "metadata": {
        "colab": {
          "base_uri": "https://localhost:8080/"
        },
        "id": "DlyZepPDUUh3",
        "outputId": "7e963b96-5eab-47e2-f398-7c425af7b23b"
      },
      "execution_count": 40,
      "outputs": [
        {
          "output_type": "stream",
          "name": "stdout",
          "text": [
            "Epoch 1/2\n",
            "\u001b[1m1719/1719\u001b[0m \u001b[32m━━━━━━━━━━━━━━━━━━━━\u001b[0m\u001b[37m\u001b[0m \u001b[1m17s\u001b[0m 9ms/step - accuracy: 0.7529 - loss: 0.7094 - val_accuracy: 0.8508 - val_loss: 0.3924\n",
            "Epoch 2/2\n",
            "\u001b[1m1719/1719\u001b[0m \u001b[32m━━━━━━━━━━━━━━━━━━━━\u001b[0m\u001b[37m\u001b[0m \u001b[1m19s\u001b[0m 8ms/step - accuracy: 0.8565 - loss: 0.4046 - val_accuracy: 0.8650 - val_loss: 0.3602\n"
          ]
        },
        {
          "output_type": "execute_result",
          "data": {
            "text/plain": [
              "<keras.src.callbacks.history.History at 0x7f0c1bf18ad0>"
            ]
          },
          "metadata": {},
          "execution_count": 40
        }
      ]
    },
    {
      "cell_type": "markdown",
      "source": [
        "# Gradient Clipping for RNN\n",
        "\n"
      ],
      "metadata": {
        "id": "M4LUpzBrUsb9"
      }
    },
    {
      "cell_type": "code",
      "source": [
        "optimizer =  tf.keras.optimizers.SGD(clipvalue=1.0)\n",
        "model.compile(loss='sparse_categorical_crossentropy',optimizer=optimizer)"
      ],
      "metadata": {
        "id": "WL_KXF6zUUeR"
      },
      "execution_count": 41,
      "outputs": []
    },
    {
      "cell_type": "code",
      "source": [
        "optimizer =  tf.keras.optimizers.SGD(clipnorm=1.0)\n",
        "model.compile(loss='sparse_categorical_crossentropy',optimizer=optimizer)"
      ],
      "metadata": {
        "id": "BZvw3KsxVrgy"
      },
      "execution_count": 42,
      "outputs": []
    },
    {
      "cell_type": "markdown",
      "source": [
        "Reusing Pretrained\n"
      ],
      "metadata": {
        "id": "MPVLh0uFV-6W"
      }
    },
    {
      "cell_type": "code",
      "source": [
        "from types import new_class\n",
        "pos_class_id = class_names.index(\"Pullover\")\n",
        "neg_class_id = class_names.index(\"T-shirt/top\")\n",
        "\n",
        "def split_dataset(X,y):\n",
        "  y_for_B = (y== pos_class_id) | (y==neg_class_id)\n",
        "  y_A=  y[~y_for_B]\n",
        "  y_B= (y[y_for_B]== pos_class_id) # Removed .astype(np.float32)\n",
        "  old_class_ids = list(set(range(10)) - set([neg_class_id,pos_class_id]))\n",
        "  for old_class_id,new_class_id in zip(old_class_ids,range(8)):\n",
        "    y_A[y_A== old_class_id] =  new_class_id\n",
        "  return ((X[~y_for_B],y_A),(X[y_for_B],y_B))\n",
        "\n",
        "(X_train_A,y_train_A),(X_train_B,y_train_B) = split_dataset(X_train,y_train)\n",
        "(X_valid_A,y_valid_A),(X_valid_B,y_valid_B) = split_dataset(X_valid,y_valid)\n",
        "(X_test_A,y_test_A),(X_test_B,y_test_B) = split_dataset(X_test,y_test)\n",
        "X_train_B= X_train_B[:200]\n",
        "y_train_B= y_train_B[:200]"
      ],
      "metadata": {
        "id": "kw2wbjg-Vrb8"
      },
      "execution_count": 59,
      "outputs": []
    },
    {
      "cell_type": "code",
      "source": [
        "tf.random.set_seed(42)\n",
        "\n",
        "model_A = tf.keras.Sequential(\n",
        "   [\n",
        "\n",
        "     tf.keras.layers.Flatten(input_shape= [28,28]),\n",
        "     tf.keras.layers.BatchNormalization(),\n",
        "     tf.keras.layers.Dense(100,activation='relu',\n",
        "                           kernel_initializer='he_normal'),\n",
        "     tf.keras.layers.Dense(100,activation='relu',\n",
        "                           kernel_initializer='he_normal'),\n",
        "     tf.keras.layers.Dense(100,activation='relu',kernel_initializer='he_normal'),\n",
        "     tf.keras.layers.Dense(8,activation='softmax')\n",
        "     ]\n",
        ")\n",
        "model_A.compile(loss='sparse_categorical_crossentropy',\n",
        "                optimizer= tf.keras.optimizers.SGD(learning_rate=1e-3),\n",
        "                metrics=['accuracy'])\n",
        "history = model_A.fit(X_train_A,y_train_A,epochs=20,\n",
        "                      validation_data=(X_valid_A,y_valid_A))\n",
        "model_A.save('my_model_A.keras')"
      ],
      "metadata": {
        "colab": {
          "base_uri": "https://localhost:8080/"
        },
        "id": "UuVA0X6CZP6J",
        "outputId": "435e4303-0512-4fe5-fa54-cfd8585ab677"
      },
      "execution_count": 53,
      "outputs": [
        {
          "output_type": "stream",
          "name": "stdout",
          "text": [
            "Epoch 1/20\n",
            "\u001b[1m1376/1376\u001b[0m \u001b[32m━━━━━━━━━━━━━━━━━━━━\u001b[0m\u001b[37m\u001b[0m \u001b[1m6s\u001b[0m 4ms/step - accuracy: 0.6033 - loss: 1.1995 - val_accuracy: 0.8305 - val_loss: 0.4793\n",
            "Epoch 2/20\n",
            "\u001b[1m1376/1376\u001b[0m \u001b[32m━━━━━━━━━━━━━━━━━━━━\u001b[0m\u001b[37m\u001b[0m \u001b[1m10s\u001b[0m 4ms/step - accuracy: 0.8302 - loss: 0.4809 - val_accuracy: 0.8571 - val_loss: 0.3890\n",
            "Epoch 3/20\n",
            "\u001b[1m1376/1376\u001b[0m \u001b[32m━━━━━━━━━━━━━━━━━━━━\u001b[0m\u001b[37m\u001b[0m \u001b[1m10s\u001b[0m 4ms/step - accuracy: 0.8565 - loss: 0.3993 - val_accuracy: 0.8754 - val_loss: 0.3506\n",
            "Epoch 4/20\n",
            "\u001b[1m1376/1376\u001b[0m \u001b[32m━━━━━━━━━━━━━━━━━━━━\u001b[0m\u001b[37m\u001b[0m \u001b[1m5s\u001b[0m 4ms/step - accuracy: 0.8712 - loss: 0.3594 - val_accuracy: 0.8834 - val_loss: 0.3281\n",
            "Epoch 5/20\n",
            "\u001b[1m1376/1376\u001b[0m \u001b[32m━━━━━━━━━━━━━━━━━━━━\u001b[0m\u001b[37m\u001b[0m \u001b[1m5s\u001b[0m 3ms/step - accuracy: 0.8815 - loss: 0.3343 - val_accuracy: 0.8897 - val_loss: 0.3132\n",
            "Epoch 6/20\n",
            "\u001b[1m1376/1376\u001b[0m \u001b[32m━━━━━━━━━━━━━━━━━━━━\u001b[0m\u001b[37m\u001b[0m \u001b[1m5s\u001b[0m 4ms/step - accuracy: 0.8882 - loss: 0.3163 - val_accuracy: 0.8940 - val_loss: 0.3021\n",
            "Epoch 7/20\n",
            "\u001b[1m1376/1376\u001b[0m \u001b[32m━━━━━━━━━━━━━━━━━━━━\u001b[0m\u001b[37m\u001b[0m \u001b[1m5s\u001b[0m 3ms/step - accuracy: 0.8935 - loss: 0.3022 - val_accuracy: 0.8990 - val_loss: 0.2935\n",
            "Epoch 8/20\n",
            "\u001b[1m1376/1376\u001b[0m \u001b[32m━━━━━━━━━━━━━━━━━━━━\u001b[0m\u001b[37m\u001b[0m \u001b[1m6s\u001b[0m 4ms/step - accuracy: 0.8975 - loss: 0.2907 - val_accuracy: 0.9007 - val_loss: 0.2862\n",
            "Epoch 9/20\n",
            "\u001b[1m1376/1376\u001b[0m \u001b[32m━━━━━━━━━━━━━━━━━━━━\u001b[0m\u001b[37m\u001b[0m \u001b[1m5s\u001b[0m 4ms/step - accuracy: 0.9009 - loss: 0.2808 - val_accuracy: 0.9045 - val_loss: 0.2802\n",
            "Epoch 10/20\n",
            "\u001b[1m1376/1376\u001b[0m \u001b[32m━━━━━━━━━━━━━━━━━━━━\u001b[0m\u001b[37m\u001b[0m \u001b[1m4s\u001b[0m 3ms/step - accuracy: 0.9038 - loss: 0.2722 - val_accuracy: 0.9055 - val_loss: 0.2749\n",
            "Epoch 11/20\n",
            "\u001b[1m1376/1376\u001b[0m \u001b[32m━━━━━━━━━━━━━━━━━━━━\u001b[0m\u001b[37m\u001b[0m \u001b[1m6s\u001b[0m 4ms/step - accuracy: 0.9066 - loss: 0.2646 - val_accuracy: 0.9060 - val_loss: 0.2703\n",
            "Epoch 12/20\n",
            "\u001b[1m1376/1376\u001b[0m \u001b[32m━━━━━━━━━━━━━━━━━━━━\u001b[0m\u001b[37m\u001b[0m \u001b[1m10s\u001b[0m 4ms/step - accuracy: 0.9091 - loss: 0.2577 - val_accuracy: 0.9075 - val_loss: 0.2661\n",
            "Epoch 13/20\n",
            "\u001b[1m1376/1376\u001b[0m \u001b[32m━━━━━━━━━━━━━━━━━━━━\u001b[0m\u001b[37m\u001b[0m \u001b[1m5s\u001b[0m 4ms/step - accuracy: 0.9109 - loss: 0.2514 - val_accuracy: 0.9082 - val_loss: 0.2624\n",
            "Epoch 14/20\n",
            "\u001b[1m1376/1376\u001b[0m \u001b[32m━━━━━━━━━━━━━━━━━━━━\u001b[0m\u001b[37m\u001b[0m \u001b[1m5s\u001b[0m 3ms/step - accuracy: 0.9126 - loss: 0.2457 - val_accuracy: 0.9090 - val_loss: 0.2590\n",
            "Epoch 15/20\n",
            "\u001b[1m1376/1376\u001b[0m \u001b[32m━━━━━━━━━━━━━━━━━━━━\u001b[0m\u001b[37m\u001b[0m \u001b[1m6s\u001b[0m 4ms/step - accuracy: 0.9143 - loss: 0.2404 - val_accuracy: 0.9093 - val_loss: 0.2560\n",
            "Epoch 16/20\n",
            "\u001b[1m1376/1376\u001b[0m \u001b[32m━━━━━━━━━━━━━━━━━━━━\u001b[0m\u001b[37m\u001b[0m \u001b[1m4s\u001b[0m 3ms/step - accuracy: 0.9160 - loss: 0.2354 - val_accuracy: 0.9095 - val_loss: 0.2532\n",
            "Epoch 17/20\n",
            "\u001b[1m1376/1376\u001b[0m \u001b[32m━━━━━━━━━━━━━━━━━━━━\u001b[0m\u001b[37m\u001b[0m \u001b[1m6s\u001b[0m 4ms/step - accuracy: 0.9173 - loss: 0.2308 - val_accuracy: 0.9110 - val_loss: 0.2505\n",
            "Epoch 18/20\n",
            "\u001b[1m1376/1376\u001b[0m \u001b[32m━━━━━━━━━━━━━━━━━━━━\u001b[0m\u001b[37m\u001b[0m \u001b[1m5s\u001b[0m 4ms/step - accuracy: 0.9189 - loss: 0.2264 - val_accuracy: 0.9125 - val_loss: 0.2480\n",
            "Epoch 19/20\n",
            "\u001b[1m1376/1376\u001b[0m \u001b[32m━━━━━━━━━━━━━━━━━━━━\u001b[0m\u001b[37m\u001b[0m \u001b[1m4s\u001b[0m 3ms/step - accuracy: 0.9208 - loss: 0.2223 - val_accuracy: 0.9123 - val_loss: 0.2458\n",
            "Epoch 20/20\n",
            "\u001b[1m1376/1376\u001b[0m \u001b[32m━━━━━━━━━━━━━━━━━━━━\u001b[0m\u001b[37m\u001b[0m \u001b[1m6s\u001b[0m 4ms/step - accuracy: 0.9221 - loss: 0.2185 - val_accuracy: 0.9133 - val_loss: 0.2437\n"
          ]
        }
      ]
    },
    {
      "cell_type": "code",
      "source": [
        "tf.random.set_seed(42)\n",
        "\n",
        "model_B = tf.keras.Sequential(\n",
        "   [\n",
        "\n",
        "     tf.keras.layers.Flatten(input_shape= [28,28]),\n",
        "     tf.keras.layers.BatchNormalization(),\n",
        "     tf.keras.layers.Dense(100,activation='relu',\n",
        "                           kernel_initializer='he_normal'),\n",
        "     tf.keras.layers.Dense(100,activation='relu',\n",
        "                           kernel_initializer='he_normal'),\n",
        "     tf.keras.layers.Dense(100,activation='relu',kernel_initializer='he_normal'),\n",
        "     tf.keras.layers.Dense(1,activation='sigmoid')\n",
        "     ]\n",
        ")\n",
        "model_B.compile(loss='binary_crossentropy',\n",
        "                optimizer= tf.keras.optimizers.SGD(learning_rate=1e-3),\n",
        "                metrics=['accuracy'])\n",
        "history = model_B.fit(X_train_B,y_train_B,epochs=20,\n",
        "                      validation_data=(X_valid_B,y_valid_B))\n",
        "model.evaluate(X_test_B,y_test_B)"
      ],
      "metadata": {
        "colab": {
          "base_uri": "https://localhost:8080/"
        },
        "id": "yGLSfg7qbKVu",
        "outputId": "c67f0a67-b517-4d92-d857-e0c4e0447289"
      },
      "execution_count": 52,
      "outputs": [
        {
          "output_type": "stream",
          "name": "stdout",
          "text": [
            "Epoch 1/20\n",
            "\u001b[1m7/7\u001b[0m \u001b[32m━━━━━━━━━━━━━━━━━━━━\u001b[0m\u001b[37m\u001b[0m \u001b[1m1s\u001b[0m 72ms/step - accuracy: 0.5425 - loss: 0.7230 - val_accuracy: 0.2601 - val_loss: 0.8095\n",
            "Epoch 2/20\n",
            "\u001b[1m7/7\u001b[0m \u001b[32m━━━━━━━━━━━━━━━━━━━━\u001b[0m\u001b[37m\u001b[0m \u001b[1m0s\u001b[0m 34ms/step - accuracy: 0.6157 - loss: 0.6561 - val_accuracy: 0.3136 - val_loss: 0.7692\n",
            "Epoch 3/20\n",
            "\u001b[1m7/7\u001b[0m \u001b[32m━━━━━━━━━━━━━━━━━━━━\u001b[0m\u001b[37m\u001b[0m \u001b[1m0s\u001b[0m 33ms/step - accuracy: 0.7227 - loss: 0.6007 - val_accuracy: 0.4055 - val_loss: 0.7324\n",
            "Epoch 4/20\n",
            "\u001b[1m7/7\u001b[0m \u001b[32m━━━━━━━━━━━━━━━━━━━━\u001b[0m\u001b[37m\u001b[0m \u001b[1m0s\u001b[0m 23ms/step - accuracy: 0.7623 - loss: 0.5542 - val_accuracy: 0.4985 - val_loss: 0.6991\n",
            "Epoch 5/20\n",
            "\u001b[1m7/7\u001b[0m \u001b[32m━━━━━━━━━━━━━━━━━━━━\u001b[0m\u001b[37m\u001b[0m \u001b[1m0s\u001b[0m 23ms/step - accuracy: 0.8007 - loss: 0.5147 - val_accuracy: 0.5955 - val_loss: 0.6688\n",
            "Epoch 6/20\n",
            "\u001b[1m7/7\u001b[0m \u001b[32m━━━━━━━━━━━━━━━━━━━━\u001b[0m\u001b[37m\u001b[0m \u001b[1m0s\u001b[0m 24ms/step - accuracy: 0.8566 - loss: 0.4812 - val_accuracy: 0.6825 - val_loss: 0.6412\n",
            "Epoch 7/20\n",
            "\u001b[1m7/7\u001b[0m \u001b[32m━━━━━━━━━━━━━━━━━━━━\u001b[0m\u001b[37m\u001b[0m \u001b[1m0s\u001b[0m 33ms/step - accuracy: 0.8654 - loss: 0.4522 - val_accuracy: 0.7468 - val_loss: 0.6159\n",
            "Epoch 8/20\n",
            "\u001b[1m7/7\u001b[0m \u001b[32m━━━━━━━━━━━━━━━━━━━━\u001b[0m\u001b[37m\u001b[0m \u001b[1m0s\u001b[0m 33ms/step - accuracy: 0.8922 - loss: 0.4269 - val_accuracy: 0.7992 - val_loss: 0.5930\n",
            "Epoch 9/20\n",
            "\u001b[1m7/7\u001b[0m \u001b[32m━━━━━━━━━━━━━━━━━━━━\u001b[0m\u001b[37m\u001b[0m \u001b[1m0s\u001b[0m 30ms/step - accuracy: 0.9205 - loss: 0.4049 - val_accuracy: 0.8279 - val_loss: 0.5718\n",
            "Epoch 10/20\n",
            "\u001b[1m7/7\u001b[0m \u001b[32m━━━━━━━━━━━━━━━━━━━━\u001b[0m\u001b[37m\u001b[0m \u001b[1m0s\u001b[0m 34ms/step - accuracy: 0.9313 - loss: 0.3854 - val_accuracy: 0.8526 - val_loss: 0.5522\n",
            "Epoch 11/20\n",
            "\u001b[1m7/7\u001b[0m \u001b[32m━━━━━━━━━━━━━━━━━━━━\u001b[0m\u001b[37m\u001b[0m \u001b[1m0s\u001b[0m 34ms/step - accuracy: 0.9399 - loss: 0.3681 - val_accuracy: 0.8843 - val_loss: 0.5339\n",
            "Epoch 12/20\n",
            "\u001b[1m7/7\u001b[0m \u001b[32m━━━━━━━━━━━━━━━━━━━━\u001b[0m\u001b[37m\u001b[0m \u001b[1m0s\u001b[0m 33ms/step - accuracy: 0.9419 - loss: 0.3527 - val_accuracy: 0.8922 - val_loss: 0.5170\n",
            "Epoch 13/20\n",
            "\u001b[1m7/7\u001b[0m \u001b[32m━━━━━━━━━━━━━━━━━━━━\u001b[0m\u001b[37m\u001b[0m \u001b[1m0s\u001b[0m 26ms/step - accuracy: 0.9500 - loss: 0.3389 - val_accuracy: 0.9041 - val_loss: 0.5010\n",
            "Epoch 14/20\n",
            "\u001b[1m7/7\u001b[0m \u001b[32m━━━━━━━━━━━━━━━━━━━━\u001b[0m\u001b[37m\u001b[0m \u001b[1m0s\u001b[0m 23ms/step - accuracy: 0.9500 - loss: 0.3263 - val_accuracy: 0.9090 - val_loss: 0.4859\n",
            "Epoch 15/20\n",
            "\u001b[1m7/7\u001b[0m \u001b[32m━━━━━━━━━━━━━━━━━━━━\u001b[0m\u001b[37m\u001b[0m \u001b[1m0s\u001b[0m 24ms/step - accuracy: 0.9500 - loss: 0.3146 - val_accuracy: 0.9169 - val_loss: 0.4718\n",
            "Epoch 16/20\n",
            "\u001b[1m7/7\u001b[0m \u001b[32m━━━━━━━━━━━━━━━━━━━━\u001b[0m\u001b[37m\u001b[0m \u001b[1m0s\u001b[0m 34ms/step - accuracy: 0.9608 - loss: 0.3039 - val_accuracy: 0.9209 - val_loss: 0.4584\n",
            "Epoch 17/20\n",
            "\u001b[1m7/7\u001b[0m \u001b[32m━━━━━━━━━━━━━━━━━━━━\u001b[0m\u001b[37m\u001b[0m \u001b[1m0s\u001b[0m 37ms/step - accuracy: 0.9608 - loss: 0.2940 - val_accuracy: 0.9199 - val_loss: 0.4456\n",
            "Epoch 18/20\n",
            "\u001b[1m7/7\u001b[0m \u001b[32m━━━━━━━━━━━━━━━━━━━━\u001b[0m\u001b[37m\u001b[0m \u001b[1m0s\u001b[0m 22ms/step - accuracy: 0.9608 - loss: 0.2848 - val_accuracy: 0.9248 - val_loss: 0.4336\n",
            "Epoch 19/20\n",
            "\u001b[1m7/7\u001b[0m \u001b[32m━━━━━━━━━━━━━━━━━━━━\u001b[0m\u001b[37m\u001b[0m \u001b[1m0s\u001b[0m 34ms/step - accuracy: 0.9608 - loss: 0.2763 - val_accuracy: 0.9268 - val_loss: 0.4221\n",
            "Epoch 20/20\n",
            "\u001b[1m7/7\u001b[0m \u001b[32m━━━━━━━━━━━━━━━━━━━━\u001b[0m\u001b[37m\u001b[0m \u001b[1m0s\u001b[0m 34ms/step - accuracy: 0.9608 - loss: 0.2682 - val_accuracy: 0.9278 - val_loss: 0.4112\n",
            "\u001b[1m63/63\u001b[0m \u001b[32m━━━━━━━━━━━━━━━━━━━━\u001b[0m\u001b[37m\u001b[0m \u001b[1m0s\u001b[0m 3ms/step - accuracy: 0.3977 - loss: 3.8142\n"
          ]
        },
        {
          "output_type": "execute_result",
          "data": {
            "text/plain": [
              "[3.71354341506958, 0.40700000524520874]"
            ]
          },
          "metadata": {},
          "execution_count": 52
        }
      ]
    },
    {
      "cell_type": "code",
      "source": [
        "tf.random.set_seed(42)"
      ],
      "metadata": {
        "id": "NkTmGT5fcWAv"
      },
      "execution_count": 60,
      "outputs": []
    },
    {
      "cell_type": "code",
      "source": [
        "model_A_clone =  tf.keras.models.clone_model(model_A)\n",
        "model_A_clone.set_weights(model_A.get_weights())    # A modelinin clonunu gotururuk ki,B_on_A-i yeniden fit etsek,A-nin parametrleri\n"
      ],
      "metadata": {
        "id": "yNOWzUiNdVrR"
      },
      "execution_count": 61,
      "outputs": []
    },
    {
      "cell_type": "code",
      "source": [
        "model_B_on_A = tf.keras.Sequential(model_A_clone.layers[:-1])\n",
        "model_B_on_A.add(tf.keras.layers.Dense(1,activation='sigmoid'))"
      ],
      "metadata": {
        "id": "YPUqR07udVm9"
      },
      "execution_count": 64,
      "outputs": []
    },
    {
      "cell_type": "code",
      "source": [
        "for layer in model_B_on_A.layers[:-1]:\n",
        "  layer.trainable = False                               #bele edirik ki, A modelinin parametrleri deyismhmesin\n",
        "optimizer= tf.keras.optimizers.SGD(learning_rate=1e-3)\n",
        "model_B_on_A.compile(loss='binary_crossentropy',optimizer=optimizer,\n",
        "                     metrics=['accuracy'])\n",
        "\n",
        "history = model_B_on_A.fit(X_train_B,y_train_B,epochs=4,\n",
        "                           validation_data=(X_valid_B,y_valid_B))"
      ],
      "metadata": {
        "colab": {
          "base_uri": "https://localhost:8080/"
        },
        "id": "9LL7NFVUd9Ie",
        "outputId": "5acba406-f910-4a9e-f27b-2cdb32ef4ead"
      },
      "execution_count": 65,
      "outputs": [
        {
          "output_type": "stream",
          "name": "stdout",
          "text": [
            "Epoch 1/4\n",
            "\u001b[1m7/7\u001b[0m \u001b[32m━━━━━━━━━━━━━━━━━━━━\u001b[0m\u001b[37m\u001b[0m \u001b[1m1s\u001b[0m 71ms/step - accuracy: 0.5680 - loss: 0.9723 - val_accuracy: 0.4955 - val_loss: 0.9711\n",
            "Epoch 2/4\n",
            "\u001b[1m7/7\u001b[0m \u001b[32m━━━━━━━━━━━━━━━━━━━━\u001b[0m\u001b[37m\u001b[0m \u001b[1m0s\u001b[0m 32ms/step - accuracy: 0.5434 - loss: 0.8559 - val_accuracy: 0.4718 - val_loss: 0.8830\n",
            "Epoch 3/4\n",
            "\u001b[1m7/7\u001b[0m \u001b[32m━━━━━━━━━━━━━━━━━━━━\u001b[0m\u001b[37m\u001b[0m \u001b[1m0s\u001b[0m 22ms/step - accuracy: 0.4986 - loss: 0.7870 - val_accuracy: 0.4629 - val_loss: 0.8288\n",
            "Epoch 4/4\n",
            "\u001b[1m7/7\u001b[0m \u001b[32m━━━━━━━━━━━━━━━━━━━━\u001b[0m\u001b[37m\u001b[0m \u001b[1m0s\u001b[0m 33ms/step - accuracy: 0.4899 - loss: 0.7447 - val_accuracy: 0.4471 - val_loss: 0.7916\n"
          ]
        }
      ]
    },
    {
      "cell_type": "code",
      "source": [
        "for layer in model_B_on_A.layers[:-1]:\n",
        "  layer.trainable = True                          #bele edirik ki, A modelinin parametrleri deyismhmesin\n",
        "optimizer= tf.keras.optimizers.SGD(learning_rate=1e-3)\n",
        "model_B_on_A.compile(loss='binary_crossentropy',optimizer=optimizer,\n",
        "                     metrics=['accuracy'])\n",
        "\n",
        "history = model_B_on_A.fit(X_train_B,y_train_B,epochs=16,\n",
        "                           validation_data=(X_valid_B,y_valid_B))"
      ],
      "metadata": {
        "colab": {
          "base_uri": "https://localhost:8080/"
        },
        "id": "LgDepUqre_LE",
        "outputId": "7170dba8-8d29-4d80-ac35-684a6b029d22"
      },
      "execution_count": 66,
      "outputs": [
        {
          "output_type": "stream",
          "name": "stdout",
          "text": [
            "Epoch 1/16\n",
            "\u001b[1m7/7\u001b[0m \u001b[32m━━━━━━━━━━━━━━━━━━━━\u001b[0m\u001b[37m\u001b[0m \u001b[1m2s\u001b[0m 91ms/step - accuracy: 0.5290 - loss: 0.8008 - val_accuracy: 0.4787 - val_loss: 0.7428\n",
            "Epoch 2/16\n",
            "\u001b[1m7/7\u001b[0m \u001b[32m━━━━━━━━━━━━━━━━━━━━\u001b[0m\u001b[37m\u001b[0m \u001b[1m0s\u001b[0m 65ms/step - accuracy: 0.5595 - loss: 0.7407 - val_accuracy: 0.5420 - val_loss: 0.6992\n",
            "Epoch 3/16\n",
            "\u001b[1m7/7\u001b[0m \u001b[32m━━━━━━━━━━━━━━━━━━━━\u001b[0m\u001b[37m\u001b[0m \u001b[1m0s\u001b[0m 22ms/step - accuracy: 0.5693 - loss: 0.6901 - val_accuracy: 0.5925 - val_loss: 0.6602\n",
            "Epoch 4/16\n",
            "\u001b[1m7/7\u001b[0m \u001b[32m━━━━━━━━━━━━━━━━━━━━\u001b[0m\u001b[37m\u001b[0m \u001b[1m0s\u001b[0m 34ms/step - accuracy: 0.6494 - loss: 0.6459 - val_accuracy: 0.6459 - val_loss: 0.6246\n",
            "Epoch 5/16\n",
            "\u001b[1m7/7\u001b[0m \u001b[32m━━━━━━━━━━━━━━━━━━━━\u001b[0m\u001b[37m\u001b[0m \u001b[1m0s\u001b[0m 37ms/step - accuracy: 0.7365 - loss: 0.6066 - val_accuracy: 0.6815 - val_loss: 0.5922\n",
            "Epoch 6/16\n",
            "\u001b[1m7/7\u001b[0m \u001b[32m━━━━━━━━━━━━━━━━━━━━\u001b[0m\u001b[37m\u001b[0m \u001b[1m0s\u001b[0m 34ms/step - accuracy: 0.7831 - loss: 0.5713 - val_accuracy: 0.7329 - val_loss: 0.5628\n",
            "Epoch 7/16\n",
            "\u001b[1m7/7\u001b[0m \u001b[32m━━━━━━━━━━━━━━━━━━━━\u001b[0m\u001b[37m\u001b[0m \u001b[1m0s\u001b[0m 34ms/step - accuracy: 0.8085 - loss: 0.5395 - val_accuracy: 0.7745 - val_loss: 0.5361\n",
            "Epoch 8/16\n",
            "\u001b[1m7/7\u001b[0m \u001b[32m━━━━━━━━━━━━━━━━━━━━\u001b[0m\u001b[37m\u001b[0m \u001b[1m0s\u001b[0m 33ms/step - accuracy: 0.8499 - loss: 0.5105 - val_accuracy: 0.8042 - val_loss: 0.5118\n",
            "Epoch 9/16\n",
            "\u001b[1m7/7\u001b[0m \u001b[32m━━━━━━━━━━━━━━━━━━━━\u001b[0m\u001b[37m\u001b[0m \u001b[1m0s\u001b[0m 36ms/step - accuracy: 0.8695 - loss: 0.4842 - val_accuracy: 0.8338 - val_loss: 0.4896\n",
            "Epoch 10/16\n",
            "\u001b[1m7/7\u001b[0m \u001b[32m━━━━━━━━━━━━━━━━━━━━\u001b[0m\u001b[37m\u001b[0m \u001b[1m0s\u001b[0m 31ms/step - accuracy: 0.8814 - loss: 0.4601 - val_accuracy: 0.8487 - val_loss: 0.4698\n",
            "Epoch 11/16\n",
            "\u001b[1m7/7\u001b[0m \u001b[32m━━━━━━━━━━━━━━━━━━━━\u001b[0m\u001b[37m\u001b[0m \u001b[1m0s\u001b[0m 33ms/step - accuracy: 0.8976 - loss: 0.4383 - val_accuracy: 0.8635 - val_loss: 0.4519\n",
            "Epoch 12/16\n",
            "\u001b[1m7/7\u001b[0m \u001b[32m━━━━━━━━━━━━━━━━━━━━\u001b[0m\u001b[37m\u001b[0m \u001b[1m0s\u001b[0m 33ms/step - accuracy: 0.9190 - loss: 0.4184 - val_accuracy: 0.8773 - val_loss: 0.4355\n",
            "Epoch 13/16\n",
            "\u001b[1m7/7\u001b[0m \u001b[32m━━━━━━━━━━━━━━━━━━━━\u001b[0m\u001b[37m\u001b[0m \u001b[1m0s\u001b[0m 25ms/step - accuracy: 0.9305 - loss: 0.4001 - val_accuracy: 0.8882 - val_loss: 0.4203\n",
            "Epoch 14/16\n",
            "\u001b[1m7/7\u001b[0m \u001b[32m━━━━━━━━━━━━━━━━━━━━\u001b[0m\u001b[37m\u001b[0m \u001b[1m0s\u001b[0m 39ms/step - accuracy: 0.9361 - loss: 0.3831 - val_accuracy: 0.8932 - val_loss: 0.4062\n",
            "Epoch 15/16\n",
            "\u001b[1m7/7\u001b[0m \u001b[32m━━━━━━━━━━━━━━━━━━━━\u001b[0m\u001b[37m\u001b[0m \u001b[1m0s\u001b[0m 34ms/step - accuracy: 0.9519 - loss: 0.3674 - val_accuracy: 0.9001 - val_loss: 0.3932\n",
            "Epoch 16/16\n",
            "\u001b[1m7/7\u001b[0m \u001b[32m━━━━━━━━━━━━━━━━━━━━\u001b[0m\u001b[37m\u001b[0m \u001b[1m0s\u001b[0m 22ms/step - accuracy: 0.9646 - loss: 0.3528 - val_accuracy: 0.9100 - val_loss: 0.3811\n"
          ]
        }
      ]
    }
  ]
}